{
 "cells": [
  {
   "cell_type": "markdown",
   "id": "028b4c38",
   "metadata": {},
   "source": [
    "# Introduction\n",
    "\n",
    "The Grecian Computer is a math puzzle that challenges where the dials have to be rotated so that all of the columns add up to 42. This notebook contains a computational solution to the Grecian computer puzzle."
   ]
  },
  {
   "cell_type": "code",
   "execution_count": 1,
   "id": "6f354897",
   "metadata": {},
   "outputs": [],
   "source": [
    "from scipy.optimize import minimize \n",
    "from sympy import *\n",
    "import math\n",
    "import numpy as np\n",
    "import itertools"
   ]
  },
  {
   "cell_type": "markdown",
   "id": "d0ce3567",
   "metadata": {},
   "source": [
    "# Set up\n",
    "\n",
    "The Grecian computer has 5 dials with the dials stacked on top of one another. We will refer to the bottom most dial as 'Dial 1', the one stacked on top of 'Dial 1' as 'Dial 2', the one stacked on top of 'Dial 2' as 'Dial 3' and so on. We will treat the dials as a $5 \\times 12$ matrix, that is, we can view 'Dial 1' as the following matrix:\n",
    "\n",
    "$$\n",
    "\\begin{bmatrix}\n",
    "    8 &3 &4 &12 &2 & 5 & 10 & 7 & 16 &8 &7&8\\\\\n",
    "    4&4&6&6&3&3&14&14&21&21&9&9\\\\\n",
    "    4&5&6&7&8&9&10&11&12&13&14&15\\\\\n",
    "    11&11&14&11&14&11&14&14&11&14&11&14\n",
    "\\end{bmatrix}\n",
    "$$\n",
    "\n",
    "The dials other than 'Dial 1' have some rows missing or have holes in certain places. I model the holes and missing rows as zeros. For example, 'Dial 5' will have the following matrix representation: \n",
    "\n",
    "$$\n",
    "\\begin{bmatrix}\n",
    "    0&0&0&0&0&0&0&0&0&0&0&0\\\\\n",
    "    0&0&0&0&0&0&0&0&0&0&0&0\\\\\n",
    "    0&0&0&0&0&0&0&0&0&0&0&0\\\\\n",
    "    7&0&15&0&8&0&3&0&6&0&10&0\n",
    "\\end{bmatrix}\n",
    "$$"
   ]
  },
  {
   "cell_type": "code",
   "execution_count": 2,
   "id": "69dd02d9",
   "metadata": {},
   "outputs": [],
   "source": [
    "# Initial set up of the dials \n",
    "\n",
    "dial1_init = np.array([[8,3,4, 12, 2, 5, 10, 7, 16, 8, 7, 8], \n",
    "                   [4,4,6,6,3,3,14,14,21,21,9,9], \n",
    "                   [4,5,6,7,8,9,10,11,12,13,14,15], \n",
    "                   [11,11,14,11,14,11,14,14,11,14,11,14]])\n",
    "\n",
    "dial2_init = np.array([[10,0,10,0,1,0,9,0,12,0,6,0], \n",
    "                   [17,19,3,12,3,26,6,0,2,13,9,0],\n",
    "                   [3,8,9,0,9,20,12,3,6,0,14,12], \n",
    "                   [8,0,16,2,7,0,9,0,7,14,11,0]])\n",
    "\n",
    "\n",
    "dial3_init = np.array([[0,0,0,0,0,0,0,0,0,0,0,0], \n",
    "                   [10,0,8,0,22,0,16,0,9,0,5,0], \n",
    "                   [15,4,9,18,11,26,14,1,12,0,21,6], \n",
    "                   [9,7,13,21,17,4,5,0,7,8,9,13]])\n",
    "\n",
    "\n",
    "dial4_init = np.array([[0,0,0,0,0,0,0,0,0,0,0,0], \n",
    "                   [0,0,0,0,0,0,0,0,0,0,0,0], \n",
    "                   [14,0,9,0,12,0, 4, 0, 7, 15, 0, 0], \n",
    "                   [11,6,11,0,6,17,7,3,0,6,0,11]])\n",
    "\n",
    "\n",
    "\n",
    "dial5_init = np.array([[0,0,0,0,0,0,0,0,0,0,0,0],\n",
    "                   [0,0,0,0,0,0,0,0,0,0,0,0],\n",
    "                   [0,0,0,0,0,0,0,0,0,0,0,0],\n",
    "                   [7,0,15,0,8,0,3,0,6,0, 10,0]])"
   ]
  },
  {
   "cell_type": "markdown",
   "id": "0ea54e5c",
   "metadata": {},
   "source": [
    "# Adding up\n",
    "\n",
    "Given any set up of the dials, we can calculate the sum of each column the following way: \n",
    "\n",
    "1. Go through each row (there are 5 rows)\n",
    "2. Find the 'highest' dial which has a non-zero value for that row and record that value. \n",
    "3. Add up the values from 2. \n",
    "\n",
    "When the dials are stacked on top of one another, the value of the top most dial is added to the sum unless there is a hole in that dial. Step 2 captures this design of the puzzle. "
   ]
  },
  {
   "cell_type": "code",
   "execution_count": 3,
   "id": "540de6b1",
   "metadata": {},
   "outputs": [],
   "source": [
    "def adding_up(dial_1, dial_2, dial_3, dial_4, dial_5): \n",
    "    vals = np.zeros((4,12))\n",
    "    for i in range(4):\n",
    "        for j in range(12): \n",
    "            dd_1 = dial_1[i,j]\n",
    "            dd_2 = dial_2[i,j]\n",
    "            dd_3 = dial_3[i,j]\n",
    "            dd_4 = dial_4[i,j]\n",
    "            dd_5 = dial_5[i,j]\n",
    "            lst = [dd_1, dd_2, dd_3, dd_4, dd_5]\n",
    "            \n",
    "            # Find the 'highest' dial which has a non-zero value \n",
    "            ind = np.where(lst)[0].max()\n",
    "            \n",
    "            # Add that to the values that are going to be added \n",
    "            vals[i,j] = lst[ind]\n",
    "    tot = np.sum(vals, axis=0)\n",
    "    return tot"
   ]
  },
  {
   "cell_type": "markdown",
   "id": "b232ae28",
   "metadata": {},
   "source": [
    "# Shifting Right\n",
    "\n",
    "To solve the puzzles, we have to consider permutations of the dials such that the previous step of adding up yields 42 for all columns. When considering permutations, we can treat 'Dial 1', the bottom most dial, as being fixed. We will rotate the remaining four dials and there are 12 possible rotations for each dial. We define the following function which shifts the values of each row to the right. For example, passing 'Dial 5' once through the shift_right function we will get:\n",
    "\n",
    "$$\n",
    "\\begin{bmatrix}\n",
    "    0&0&0&0&0&0&0&0&0&0&0&0\\\\\n",
    "    0&0&0&0&0&0&0&0&0&0&0&0\\\\\n",
    "    0&0&0&0&0&0&0&0&0&0&0&0\\\\\n",
    "    0&7&0&15&0&8&0&3&0&6&0&10\n",
    "\\end{bmatrix}\n",
    "$$"
   ]
  },
  {
   "cell_type": "code",
   "execution_count": 4,
   "id": "2e1b3fc1",
   "metadata": {},
   "outputs": [],
   "source": [
    "def shift_right(dial):\n",
    "    new_dial = np.zeros(dial.shape)\n",
    "    new_dial[:,0]=dial[:,-1]\n",
    "    new_dial[:,1:]=dial[:,:-1]\n",
    "    return new_dial"
   ]
  },
  {
   "cell_type": "markdown",
   "id": "00f08cc3",
   "metadata": {},
   "source": [
    "# Solving the puzzle \n",
    "\n",
    "All that is left to do is to go over all the permutations. We consider permutations of the dials by rotating them to the right and calculating the sum of each column for every permutation. There are $12 \\times 12 \\times 12 \\times 12 = 20,736$ possibilies and we continue permutating until we reach the solution: sum of each column equaling 42. "
   ]
  },
  {
   "cell_type": "code",
   "execution_count": 7,
   "id": "94e03b96",
   "metadata": {},
   "outputs": [
    {
     "name": "stdout",
     "output_type": "stream",
     "text": [
      "Done: 11 11 10 11\n",
      "Sum list: [42. 42. 42. 42. 42. 42. 42. 42. 42. 42. 42. 42.]\n",
      "Dial 1: [[ 8  3  4 12  2  5 10  7 16  8  7  8]\n",
      " [ 4  4  6  6  3  3 14 14 21 21  9  9]\n",
      " [ 4  5  6  7  8  9 10 11 12 13 14 15]\n",
      " [11 11 14 11 14 11 14 14 11 14 11 14]]\n",
      "Dial 2: [[10.  0. 10.  0.  1.  0.  9.  0. 12.  0.  6.  0.]\n",
      " [17. 19.  3. 12.  3. 26.  6.  0.  2. 13.  9.  0.]\n",
      " [ 3.  8.  9.  0.  9. 20. 12.  3.  6.  0. 14. 12.]\n",
      " [ 8.  0. 16.  2.  7.  0.  9.  0.  7. 14. 11.  0.]]\n",
      "Dial 3: [[ 0.  0.  0.  0.  0.  0.  0.  0.  0.  0.  0.  0.]\n",
      " [10.  0.  8.  0. 22.  0. 16.  0.  9.  0.  5.  0.]\n",
      " [15.  4.  9. 18. 11. 26. 14.  1. 12.  0. 21.  6.]\n",
      " [ 9.  7. 13. 21. 17.  4.  5.  0.  7.  8.  9. 13.]]\n",
      "Dial 4: [[ 0.  0.  0.  0.  0.  0.  0.  0.  0.  0.  0.  0.]\n",
      " [ 0.  0.  0.  0.  0.  0.  0.  0.  0.  0.  0.  0.]\n",
      " [ 0.  9.  0. 12.  0.  4.  0.  7. 15.  0.  0. 14.]\n",
      " [ 6. 11.  0.  6. 17.  7.  3.  0.  6.  0. 11. 11.]]\n"
     ]
    }
   ],
   "source": [
    "x2 = dial2_init\n",
    "\n",
    "x3  = dial3_init\n",
    "\n",
    "x4 = dial4_init\n",
    "\n",
    "x5 = dial5_init\n",
    "\n",
    "for i in range(12):\n",
    "    x2  = shift_right(x2)\n",
    "    for j in range(12):\n",
    "        x3  = shift_right(x3)\n",
    "        for k in range(12):\n",
    "            x4 = shift_right(x4)\n",
    "            for l in range(12):\n",
    "                x5 = shift_right(x5)\n",
    "                val = adding_up(dial1_init, x2, x3, x4, x5)\n",
    "                if np.all(val == 42):\n",
    "                    print('Done:', i, j, k, l)\n",
    "                    print('Sum list:', val)\n",
    "                    print('Dial 1:', dial1_init)\n",
    "                    print('Dial 2:', x2)\n",
    "                    print('Dial 3:', x3)\n",
    "                    print('Dial 4:', x4)\n",
    "                    break"
   ]
  },
  {
   "cell_type": "code",
   "execution_count": null,
   "id": "c20d5e4a",
   "metadata": {},
   "outputs": [],
   "source": []
  }
 ],
 "metadata": {
  "kernelspec": {
   "display_name": "Python 3 (ipykernel)",
   "language": "python",
   "name": "python3"
  },
  "language_info": {
   "codemirror_mode": {
    "name": "ipython",
    "version": 3
   },
   "file_extension": ".py",
   "mimetype": "text/x-python",
   "name": "python",
   "nbconvert_exporter": "python",
   "pygments_lexer": "ipython3",
   "version": "3.9.7"
  }
 },
 "nbformat": 4,
 "nbformat_minor": 5
}
